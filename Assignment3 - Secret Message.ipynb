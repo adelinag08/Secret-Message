{
 "cells": [
  {
   "cell_type": "code",
   "execution_count": 22,
   "metadata": {},
   "outputs": [
    {
     "name": "stdout",
     "output_type": "stream",
     "text": [
      "Current Working Directory is D:\\4thsemester\\AI\\Assignments\\Assignment3 - Secret Message\\FilesForSecret Message\n"
     ]
    }
   ],
   "source": [
    "import os\n",
    "from os import path\n",
    "\n",
    "def rename_files():\n",
    "    file_list = os.listdir()\n",
    "    saved_path = os.getcwd()\n",
    "    print(\"Current Working Directory is \"+saved_path)\n",
    "    #cwd=cwd+\"\\FilesForSecret Message\"\n",
    "    os.chdir(cwd+\"\\FilesForSecret Message\")\n",
    "    for file_name in file_list:      \n",
    "        new_name = file_name.lstrip(\"0123456789\")\n",
    "        os.rename(file_name, new_name)\n",
    "    \n",
    "rename_files()"
   ]
  },
  {
   "cell_type": "code",
   "execution_count": null,
   "metadata": {},
   "outputs": [],
   "source": []
  }
 ],
 "metadata": {
  "kernelspec": {
   "display_name": "Python 3",
   "language": "python",
   "name": "python3"
  },
  "language_info": {
   "codemirror_mode": {
    "name": "ipython",
    "version": 3
   },
   "file_extension": ".py",
   "mimetype": "text/x-python",
   "name": "python",
   "nbconvert_exporter": "python",
   "pygments_lexer": "ipython3",
   "version": "3.7.2"
  }
 },
 "nbformat": 4,
 "nbformat_minor": 2
}
